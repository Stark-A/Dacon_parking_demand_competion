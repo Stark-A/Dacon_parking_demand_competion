{
 "cells": [
  {
   "cell_type": "code",
   "execution_count": 1,
   "metadata": {},
   "outputs": [],
   "source": [
    "import matplotlib.pyplot as plt\n",
    "import seaborn as sns\n",
    "from sklearn.linear_model import LinearRegression"
   ]
  },
  {
   "cell_type": "code",
   "execution_count": 2,
   "metadata": {},
   "outputs": [
    {
     "data": {
      "text/plain": [
       "((2896, 15), (1008, 14), (150, 2), (16, 23))"
      ]
     },
     "execution_count": 2,
     "metadata": {},
     "output_type": "execute_result"
    }
   ],
   "source": [
    "import pandas as pd\n",
    "train = pd.read_csv(\"../Data/parking_demand/train_df_errno.csv\")\n",
    "test = pd.read_csv(\"../Data/parking_demand/test_df.csv\")\n",
    "sub = pd.read_csv(\"../Data/parking_demand/sample_submission.csv\")\n",
    "age = pd.read_csv(\"../Data/parking_demand/age_gender_info.csv\")\n",
    "train.shape, test.shape, sub.shape, age.shape"
   ]
  },
  {
   "cell_type": "code",
   "execution_count": 4,
   "metadata": {},
   "outputs": [
    {
     "data": {
      "text/html": [
       "<div>\n",
       "<style scoped>\n",
       "    .dataframe tbody tr th:only-of-type {\n",
       "        vertical-align: middle;\n",
       "    }\n",
       "\n",
       "    .dataframe tbody tr th {\n",
       "        vertical-align: top;\n",
       "    }\n",
       "\n",
       "    .dataframe thead th {\n",
       "        text-align: right;\n",
       "    }\n",
       "</style>\n",
       "<table border=\"1\" class=\"dataframe\">\n",
       "  <thead>\n",
       "    <tr style=\"text-align: right;\">\n",
       "      <th></th>\n",
       "      <th>총세대수</th>\n",
       "      <th>전용면적</th>\n",
       "      <th>전용면적별세대수</th>\n",
       "      <th>공가수</th>\n",
       "      <th>10분내지하철수</th>\n",
       "      <th>10분내버스정류장수</th>\n",
       "      <th>단지내주차면수</th>\n",
       "      <th>등록차량수</th>\n",
       "    </tr>\n",
       "  </thead>\n",
       "  <tbody>\n",
       "    <tr>\n",
       "      <th>count</th>\n",
       "      <td>2896.000000</td>\n",
       "      <td>2896.000000</td>\n",
       "      <td>2896.000000</td>\n",
       "      <td>2896.000000</td>\n",
       "      <td>2685.000000</td>\n",
       "      <td>2892.000000</td>\n",
       "      <td>2896.000000</td>\n",
       "      <td>2896.000000</td>\n",
       "    </tr>\n",
       "    <tr>\n",
       "      <th>mean</th>\n",
       "      <td>891.025207</td>\n",
       "      <td>44.559033</td>\n",
       "      <td>102.822514</td>\n",
       "      <td>12.877417</td>\n",
       "      <td>0.180261</td>\n",
       "      <td>3.703320</td>\n",
       "      <td>598.766575</td>\n",
       "      <td>558.315953</td>\n",
       "    </tr>\n",
       "    <tr>\n",
       "      <th>std</th>\n",
       "      <td>516.665211</td>\n",
       "      <td>32.000640</td>\n",
       "      <td>132.988590</td>\n",
       "      <td>10.653686</td>\n",
       "      <td>0.431074</td>\n",
       "      <td>2.666876</td>\n",
       "      <td>396.677644</td>\n",
       "      <td>437.015694</td>\n",
       "    </tr>\n",
       "    <tr>\n",
       "      <th>min</th>\n",
       "      <td>26.000000</td>\n",
       "      <td>12.620000</td>\n",
       "      <td>1.000000</td>\n",
       "      <td>0.000000</td>\n",
       "      <td>0.000000</td>\n",
       "      <td>0.000000</td>\n",
       "      <td>13.000000</td>\n",
       "      <td>13.000000</td>\n",
       "    </tr>\n",
       "    <tr>\n",
       "      <th>25%</th>\n",
       "      <td>514.000000</td>\n",
       "      <td>32.100000</td>\n",
       "      <td>14.750000</td>\n",
       "      <td>4.000000</td>\n",
       "      <td>0.000000</td>\n",
       "      <td>2.000000</td>\n",
       "      <td>277.000000</td>\n",
       "      <td>209.000000</td>\n",
       "    </tr>\n",
       "    <tr>\n",
       "      <th>50%</th>\n",
       "      <td>780.000000</td>\n",
       "      <td>39.905000</td>\n",
       "      <td>60.000000</td>\n",
       "      <td>11.000000</td>\n",
       "      <td>0.000000</td>\n",
       "      <td>3.000000</td>\n",
       "      <td>507.000000</td>\n",
       "      <td>481.000000</td>\n",
       "    </tr>\n",
       "    <tr>\n",
       "      <th>75%</th>\n",
       "      <td>1106.000000</td>\n",
       "      <td>51.292500</td>\n",
       "      <td>143.250000</td>\n",
       "      <td>20.000000</td>\n",
       "      <td>0.000000</td>\n",
       "      <td>4.000000</td>\n",
       "      <td>823.000000</td>\n",
       "      <td>763.000000</td>\n",
       "    </tr>\n",
       "    <tr>\n",
       "      <th>max</th>\n",
       "      <td>2568.000000</td>\n",
       "      <td>583.400000</td>\n",
       "      <td>1865.000000</td>\n",
       "      <td>55.000000</td>\n",
       "      <td>3.000000</td>\n",
       "      <td>20.000000</td>\n",
       "      <td>1798.000000</td>\n",
       "      <td>2550.000000</td>\n",
       "    </tr>\n",
       "  </tbody>\n",
       "</table>\n",
       "</div>"
      ],
      "text/plain": [
       "              총세대수         전용면적     전용면적별세대수          공가수     10분내지하철수  \\\n",
       "count  2896.000000  2896.000000  2896.000000  2896.000000  2685.000000   \n",
       "mean    891.025207    44.559033   102.822514    12.877417     0.180261   \n",
       "std     516.665211    32.000640   132.988590    10.653686     0.431074   \n",
       "min      26.000000    12.620000     1.000000     0.000000     0.000000   \n",
       "25%     514.000000    32.100000    14.750000     4.000000     0.000000   \n",
       "50%     780.000000    39.905000    60.000000    11.000000     0.000000   \n",
       "75%    1106.000000    51.292500   143.250000    20.000000     0.000000   \n",
       "max    2568.000000   583.400000  1865.000000    55.000000     3.000000   \n",
       "\n",
       "        10분내버스정류장수      단지내주차면수        등록차량수  \n",
       "count  2892.000000  2896.000000  2896.000000  \n",
       "mean      3.703320   598.766575   558.315953  \n",
       "std       2.666876   396.677644   437.015694  \n",
       "min       0.000000    13.000000    13.000000  \n",
       "25%       2.000000   277.000000   209.000000  \n",
       "50%       3.000000   507.000000   481.000000  \n",
       "75%       4.000000   823.000000   763.000000  \n",
       "max      20.000000  1798.000000  2550.000000  "
      ]
     },
     "execution_count": 4,
     "metadata": {},
     "output_type": "execute_result"
    }
   ],
   "source": [
    "train.describe()"
   ]
  },
  {
   "cell_type": "code",
   "execution_count": null,
   "metadata": {},
   "outputs": [],
   "source": []
  }
 ],
 "metadata": {
  "kernelspec": {
   "display_name": "Python 3",
   "language": "python",
   "name": "python3"
  },
  "language_info": {
   "codemirror_mode": {
    "name": "ipython",
    "version": 3
   },
   "file_extension": ".py",
   "mimetype": "text/x-python",
   "name": "python",
   "nbconvert_exporter": "python",
   "pygments_lexer": "ipython3",
   "version": "3.8.5"
  }
 },
 "nbformat": 4,
 "nbformat_minor": 4
}
